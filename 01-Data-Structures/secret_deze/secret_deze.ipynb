{
 "cells": [
  {
   "cell_type": "markdown",
   "metadata": {},
   "source": [
    "## Примените всевозможные операции к данным множествам, выделяя различные подмножества\n",
    "накинем 2 балла\n",
    "\n",
    "<img src=\"set_food.png\" width=\"700\" height=\"700\">"
   ]
  },
  {
   "cell_type": "code",
   "execution_count": 1,
   "metadata": {},
   "outputs": [],
   "source": [
    "pizza = {\"dough\", \"tomatoes\", \"pepperoni\", \"ground pepper\", \"sweet basil\",\n",
    "         \"a lot of cheeeese\", \"onion\", \"garlic\", \"salt\", \"oregano\"}\n",
    "shaverma = {\"lavash\", \"cucumbers\", \"tomatoes\", \"sauce\", \"fried chicken\", \"onion\", \"cabbage\"}"
   ]
  },
  {
   "cell_type": "markdown",
   "metadata": {},
   "source": [
    "# Объединение множеств\n",
    "Объединение множеств включает в себя каждый элемент множества *pizza* **или** *shaverma*"
   ]
  },
  {
   "cell_type": "code",
   "execution_count": 2,
   "metadata": {},
   "outputs": [
    {
     "data": {
      "text/plain": [
       "{'a lot of cheeeese',\n",
       " 'cabbage',\n",
       " 'cucumbers',\n",
       " 'dough',\n",
       " 'fried chicken',\n",
       " 'garlic',\n",
       " 'ground pepper',\n",
       " 'lavash',\n",
       " 'onion',\n",
       " 'oregano',\n",
       " 'pepperoni',\n",
       " 'salt',\n",
       " 'sauce',\n",
       " 'sweet basil',\n",
       " 'tomatoes'}"
      ]
     },
     "execution_count": 2,
     "metadata": {},
     "output_type": "execute_result"
    }
   ],
   "source": [
    "pizza | shaverma"
   ]
  },
  {
   "cell_type": "markdown",
   "metadata": {},
   "source": [
    "# Пересечение множеств\n",
    "Пересечение множеств включает в себя каждый элемент множества *pizza* **и** *shaverma*"
   ]
  },
  {
   "cell_type": "code",
   "execution_count": 3,
   "metadata": {},
   "outputs": [
    {
     "data": {
      "text/plain": [
       "{'onion', 'tomatoes'}"
      ]
     },
     "execution_count": 3,
     "metadata": {},
     "output_type": "execute_result"
    }
   ],
   "source": [
    "pizza & shaverma"
   ]
  },
  {
   "cell_type": "markdown",
   "metadata": {},
   "source": [
    "# Разность множеств\n",
    "Разность множеств *pizza* \\ *shaverma* включает в себя каждый элемент множества *pizza* **и не принадлежащий** *shaverma*"
   ]
  },
  {
   "cell_type": "code",
   "execution_count": 4,
   "metadata": {},
   "outputs": [
    {
     "data": {
      "text/plain": [
       "{'a lot of cheeeese',\n",
       " 'dough',\n",
       " 'garlic',\n",
       " 'ground pepper',\n",
       " 'oregano',\n",
       " 'pepperoni',\n",
       " 'salt',\n",
       " 'sweet basil'}"
      ]
     },
     "execution_count": 4,
     "metadata": {},
     "output_type": "execute_result"
    }
   ],
   "source": [
    "pizza - shaverma"
   ]
  },
  {
   "cell_type": "markdown",
   "metadata": {},
   "source": [
    "Разность множеств *shaverma* \\ *pizza* включает в себя каждый элемент множества *shaverma* **и не принадлежащий** *pizza*"
   ]
  },
  {
   "cell_type": "code",
   "execution_count": 5,
   "metadata": {},
   "outputs": [
    {
     "data": {
      "text/plain": [
       "{'cabbage', 'cucumbers', 'fried chicken', 'lavash', 'sauce'}"
      ]
     },
     "execution_count": 5,
     "metadata": {},
     "output_type": "execute_result"
    }
   ],
   "source": [
    "shaverma - pizza"
   ]
  },
  {
   "cell_type": "markdown",
   "metadata": {},
   "source": [
    "# Симметрическая разность множеств\n",
    "Симетрическая разность множеств включает в себя каждый элемент **либо** множества *shaverma*, **либо** множества *pizza*, но не включает в себя элементы принадлежащие одновременно двум этим множествам"
   ]
  },
  {
   "cell_type": "code",
   "execution_count": 6,
   "metadata": {},
   "outputs": [
    {
     "data": {
      "text/plain": [
       "{'a lot of cheeeese',\n",
       " 'cabbage',\n",
       " 'cucumbers',\n",
       " 'dough',\n",
       " 'fried chicken',\n",
       " 'garlic',\n",
       " 'ground pepper',\n",
       " 'lavash',\n",
       " 'oregano',\n",
       " 'pepperoni',\n",
       " 'salt',\n",
       " 'sauce',\n",
       " 'sweet basil'}"
      ]
     },
     "execution_count": 6,
     "metadata": {},
     "output_type": "execute_result"
    }
   ],
   "source": [
    "pizza ^ shaverma"
   ]
  },
  {
   "cell_type": "markdown",
   "metadata": {},
   "source": [
    "Логично предположить что данное выражение окажется верным:"
   ]
  },
  {
   "cell_type": "code",
   "execution_count": 7,
   "metadata": {},
   "outputs": [
    {
     "data": {
      "text/plain": [
       "True"
      ]
     },
     "execution_count": 7,
     "metadata": {},
     "output_type": "execute_result"
    }
   ],
   "source": [
    "(pizza ^ shaverma) == ((pizza - shaverma) | (shaverma - pizza)) == ((pizza | shaverma) - (shaverma & pizza))"
   ]
  }
 ],
 "metadata": {
  "kernelspec": {
   "display_name": "Python 3",
   "language": "python",
   "name": "python3"
  },
  "language_info": {
   "codemirror_mode": {
    "name": "ipython",
    "version": 3
   },
   "file_extension": ".py",
   "mimetype": "text/x-python",
   "name": "python",
   "nbconvert_exporter": "python",
   "pygments_lexer": "ipython3",
   "version": "3.6.7"
  }
 },
 "nbformat": 4,
 "nbformat_minor": 2
}
